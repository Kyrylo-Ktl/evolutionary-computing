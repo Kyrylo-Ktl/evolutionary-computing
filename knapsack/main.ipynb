{
 "cells": [
  {
   "cell_type": "code",
   "execution_count": 1,
   "metadata": {
    "collapsed": true,
    "ExecuteTime": {
     "end_time": "2023-06-05T15:13:03.046517541Z",
     "start_time": "2023-06-05T15:13:02.583040861Z"
    }
   },
   "outputs": [],
   "source": [
    "import random\n",
    "\n",
    "import matplotlib.pyplot as plt\n",
    "import numpy\n",
    "from deap import algorithms, base, creator, tools\n",
    "\n",
    "from config import ITEMS\n",
    "from knapsack.utils import evaluate\n",
    "\n",
    "%matplotlib inline\n",
    "\n",
    "random.seed(42)"
   ]
  },
  {
   "cell_type": "code",
   "execution_count": 2,
   "metadata": {
    "ExecuteTime": {
     "end_time": "2023-06-05T15:13:03.052733076Z",
     "start_time": "2023-06-05T15:13:03.049768020Z"
    }
   },
   "outputs": [],
   "source": [
    "creator.create('FitnessMax', base.Fitness, weights=(1.0,))\n",
    "creator.create('Individual', list, fitness=creator.FitnessMax)"
   ]
  },
  {
   "cell_type": "code",
   "execution_count": 3,
   "metadata": {
    "ExecuteTime": {
     "end_time": "2023-06-05T15:13:03.064163638Z",
     "start_time": "2023-06-05T15:13:03.055615938Z"
    }
   },
   "outputs": [],
   "source": [
    "toolbox = base.Toolbox()\n",
    "\n",
    "toolbox.register('mate', tools.cxTwoPoint)\n",
    "toolbox.register('mutate', tools.mutFlipBit, indpb=1.0 / len(ITEMS))\n",
    "toolbox.register('select', tools.selTournament, tournsize=3)\n",
    "toolbox.register('evaluate', evaluate)\n",
    "\n",
    "toolbox.register('individualCreator', tools.initRepeat, creator.Individual, lambda: random.randint(0, 1), n=len(ITEMS))\n",
    "toolbox.register('populationCreator', tools.initRepeat, list, toolbox.individualCreator)"
   ]
  },
  {
   "cell_type": "code",
   "execution_count": 4,
   "metadata": {
    "ExecuteTime": {
     "end_time": "2023-06-05T15:13:03.073025795Z",
     "start_time": "2023-06-05T15:13:03.068947638Z"
    }
   },
   "outputs": [],
   "source": [
    "stats = tools.Statistics(key=lambda individual: individual.fitness.values)\n",
    "stats.register('min', numpy.min)\n",
    "stats.register('avg', numpy.mean)\n",
    "stats.register('median', numpy.median)\n",
    "stats.register('max', numpy.max)"
   ]
  },
  {
   "cell_type": "code",
   "execution_count": 5,
   "metadata": {
    "ExecuteTime": {
     "end_time": "2023-06-05T15:13:03.119130720Z",
     "start_time": "2023-06-05T15:13:03.077387197Z"
    }
   },
   "outputs": [],
   "source": [
    "CROSSOVER_PROBABILITY = 0.75\n",
    "MUTATION_PROBABILITY = 0.1\n",
    "MAX_GENERATIONS = 500\n",
    "POPULATION_SIZE = 50"
   ]
  },
  {
   "cell_type": "code",
   "execution_count": 6,
   "metadata": {
    "ExecuteTime": {
     "end_time": "2023-06-05T15:13:03.119560959Z",
     "start_time": "2023-06-05T15:13:03.119364148Z"
    }
   },
   "outputs": [],
   "source": [
    "toolbox.register(\n",
    "    'maximize',\n",
    "    function=algorithms.eaSimple,\n",
    "    toolbox=toolbox,\n",
    "    cxpb=CROSSOVER_PROBABILITY,\n",
    "    mutpb=MUTATION_PROBABILITY,\n",
    "    ngen=MAX_GENERATIONS,\n",
    "    stats=stats,\n",
    "    verbose=True,\n",
    ")"
   ]
  },
  {
   "cell_type": "code",
   "execution_count": 7,
   "metadata": {
    "ExecuteTime": {
     "end_time": "2023-06-05T15:13:03.897251645Z",
     "start_time": "2023-06-05T15:13:03.119767676Z"
    }
   },
   "outputs": [
    {
     "name": "stdout",
     "output_type": "stream",
     "text": [
      "gen\tnevals\tmin\tavg   \tmedian\tmax\n",
      "0  \t50    \t0  \t229.28\t0     \t770\n",
      "1  \t43    \t0  \t365.2 \t449.5 \t770\n",
      "2  \t44    \t0  \t471.02\t554.5 \t770\n",
      "3  \t37    \t0  \t494.7 \t606   \t770\n",
      "4  \t48    \t0  \t603.8 \t668.5 \t782\n",
      "5  \t46    \t0  \t516.54\t686   \t792\n",
      "6  \t30    \t0  \t663.76\t730   \t887\n",
      "7  \t40    \t0  \t639.4 \t762   \t927\n",
      "8  \t40    \t0  \t660   \t800   \t927\n",
      "9  \t40    \t0  \t676.72\t812.5 \t927\n",
      "10 \t39    \t0  \t810.9 \t857   \t942\n",
      "11 \t38    \t0  \t809.7 \t890   \t942\n",
      "12 \t41    \t0  \t745.66\t927   \t942\n",
      "13 \t37    \t0  \t886.82\t927   \t942\n",
      "14 \t36    \t0  \t842.84\t927   \t942\n",
      "15 \t40    \t0  \t830.76\t927   \t942\n",
      "16 \t36    \t0  \t792.22\t927   \t942\n",
      "17 \t34    \t0  \t852.94\t942   \t942\n",
      "18 \t46    \t0  \t863.14\t942   \t942\n",
      "19 \t39    \t0  \t884.38\t942   \t942\n",
      "20 \t31    \t0  \t878.94\t942   \t942\n",
      "21 \t32    \t0  \t900.62\t942   \t942\n",
      "22 \t39    \t0  \t862.54\t942   \t942\n",
      "23 \t42    \t847\t940.1 \t942   \t942\n",
      "24 \t36    \t0  \t919.76\t942   \t942\n",
      "25 \t41    \t0  \t901.12\t942   \t942\n",
      "26 \t42    \t882\t940.8 \t942   \t942\n",
      "27 \t37    \t0  \t921.72\t942   \t942\n",
      "28 \t34    \t0  \t919.96\t942   \t942\n",
      "29 \t43    \t0  \t897.08\t942   \t980\n",
      "30 \t35    \t0  \t846.08\t942   \t980\n",
      "31 \t38    \t0  \t905.92\t942   \t980\n",
      "32 \t45    \t0  \t915.28\t942   \t980\n",
      "33 \t42    \t0  \t908.8 \t980   \t980\n",
      "34 \t40    \t0  \t957.36\t980   \t980\n",
      "35 \t40    \t920\t978.8 \t980   \t980\n",
      "36 \t41    \t0  \t958.1 \t980   \t980\n",
      "37 \t38    \t0  \t940.8 \t980   \t980\n",
      "38 \t40    \t980\t980   \t980   \t980\n",
      "39 \t38    \t0  \t903.64\t980   \t980\n",
      "40 \t42    \t0  \t935   \t980   \t980\n",
      "41 \t34    \t0  \t939.3 \t980   \t980\n",
      "42 \t42    \t0  \t895   \t980   \t1000\n",
      "43 \t34    \t0  \t916.1 \t980   \t980 \n",
      "44 \t41    \t0  \t957.84\t980   \t980 \n",
      "45 \t37    \t0  \t955.5 \t980   \t980 \n",
      "46 \t39    \t0  \t898.4 \t980   \t980 \n",
      "47 \t49    \t820\t976.8 \t980   \t980 \n",
      "48 \t42    \t0  \t898.6 \t980   \t980 \n",
      "49 \t42    \t0  \t939.2 \t980   \t980 \n",
      "50 \t38    \t0  \t960.4 \t980   \t980 \n",
      "51 \t33    \t0  \t910.4 \t980   \t980 \n",
      "52 \t39    \t0  \t925.3 \t980   \t980 \n",
      "53 \t35    \t0  \t938.7 \t980   \t980 \n",
      "54 \t38    \t0  \t959.2 \t980   \t980 \n",
      "55 \t41    \t0  \t935.2 \t980   \t1000\n",
      "56 \t39    \t0  \t956.2 \t980   \t1000\n",
      "57 \t41    \t0  \t941.1 \t980   \t1000\n",
      "58 \t40    \t0  \t970.4 \t990   \t1000\n",
      "59 \t43    \t0  \t892.04\t1000  \t1000\n",
      "60 \t40    \t0  \t971.04\t1000  \t1000\n",
      "61 \t33    \t0  \t949.6 \t1000  \t1000\n",
      "62 \t31    \t0  \t953   \t1000  \t1000\n",
      "63 \t36    \t0  \t934.8 \t1000  \t1000\n",
      "64 \t38    \t0  \t979.9 \t1000  \t1000\n",
      "65 \t45    \t0  \t949.6 \t1000  \t1000\n",
      "66 \t40    \t0  \t954.6 \t1000  \t1000\n",
      "67 \t40    \t0  \t968.7 \t1000  \t1000\n",
      "68 \t46    \t0  \t978.2 \t1000  \t1000\n",
      "69 \t42    \t0  \t980   \t1000  \t1000\n",
      "70 \t38    \t0  \t937.5 \t1000  \t1000\n",
      "71 \t46    \t735\t986.3 \t1000  \t1000\n",
      "72 \t28    \t0  \t974.5 \t1000  \t1000\n",
      "73 \t40    \t0  \t935   \t1000  \t1000\n",
      "74 \t39    \t0  \t931.6 \t1000  \t1000\n",
      "75 \t36    \t0  \t972.24\t1000  \t1000\n",
      "76 \t36    \t0  \t949.3 \t1000  \t1000\n",
      "77 \t42    \t0  \t940   \t1000  \t1000\n",
      "78 \t31    \t1000\t1000  \t1000  \t1000\n",
      "79 \t42    \t0   \t977.8 \t1000  \t1000\n",
      "80 \t40    \t0   \t971.1 \t1000  \t1000\n",
      "81 \t35    \t0   \t935.6 \t1000  \t1000\n",
      "82 \t41    \t940 \t998.1 \t1000  \t1000\n",
      "83 \t38    \t0   \t953.1 \t1000  \t1000\n",
      "84 \t34    \t1000\t1000  \t1000  \t1000\n",
      "85 \t40    \t915 \t998.3 \t1000  \t1000\n",
      "86 \t44    \t0   \t957   \t1000  \t1000\n",
      "87 \t40    \t0   \t951.5 \t1000  \t1000\n",
      "88 \t40    \t880 \t997.6 \t1000  \t1000\n",
      "89 \t39    \t0   \t957.9 \t1000  \t1000\n",
      "90 \t40    \t832 \t995.44\t1000  \t1000\n",
      "91 \t31    \t0   \t980   \t1000  \t1000\n",
      "92 \t34    \t0   \t958.5 \t1000  \t1000\n",
      "93 \t40    \t740 \t985.3 \t1000  \t1000\n",
      "94 \t34    \t0   \t954.3 \t1000  \t1000\n",
      "95 \t42    \t0   \t955.2 \t1000  \t1000\n",
      "96 \t44    \t0   \t980   \t1000  \t1000\n",
      "97 \t38    \t1000\t1000  \t1000  \t1000\n",
      "98 \t37    \t0   \t980   \t1000  \t1000\n",
      "99 \t25    \t0   \t955.3 \t1000  \t1000\n",
      "100\t40    \t0   \t959.2 \t1000  \t1000\n",
      "101\t46    \t0   \t920   \t1000  \t1000\n",
      "102\t39    \t0   \t953.8 \t1000  \t1000\n",
      "103\t40    \t0   \t936   \t1000  \t1000\n",
      "104\t38    \t855 \t995.2 \t1000  \t1000\n",
      "105\t34    \t0   \t954.8 \t1000  \t1000\n",
      "106\t38    \t0   \t888.8 \t1000  \t1000\n",
      "107\t40    \t0   \t975.3 \t1000  \t1000\n",
      "108\t43    \t0   \t960   \t1000  \t1000\n",
      "109\t38    \t0   \t977.94\t1000  \t1000\n",
      "110\t33    \t0   \t960   \t1000  \t1000\n",
      "111\t41    \t0   \t934   \t1000  \t1000\n",
      "112\t38    \t850 \t994.2 \t1000  \t1000\n",
      "113\t38    \t0   \t955.6 \t1000  \t1000\n",
      "114\t46    \t0   \t959   \t1000  \t1000\n",
      "115\t33    \t0   \t960   \t1000  \t1000\n",
      "116\t33    \t760 \t989.6 \t1000  \t1000\n",
      "117\t42    \t0   \t980   \t1000  \t1000\n",
      "118\t35    \t0   \t933.5 \t1000  \t1000\n",
      "119\t43    \t0   \t976.1 \t1000  \t1000\n",
      "120\t44    \t0   \t980   \t1000  \t1000\n",
      "121\t30    \t840 \t992.7 \t1000  \t1000\n",
      "122\t41    \t0   \t918.8 \t1000  \t1000\n",
      "123\t29    \t0   \t979.2 \t1000  \t1000\n",
      "124\t38    \t0   \t920   \t1000  \t1000\n",
      "125\t40    \t930 \t996.4 \t1000  \t1000\n",
      "126\t40    \t800 \t993.6 \t1000  \t1000\n",
      "127\t43    \t840 \t995.68\t1000  \t1000\n",
      "128\t41    \t0   \t928   \t1000  \t1000\n",
      "129\t38    \t0   \t916.9 \t1000  \t1000\n",
      "130\t38    \t925 \t995.5 \t1000  \t1000\n",
      "131\t34    \t0   \t980   \t1000  \t1000\n",
      "132\t43    \t0   \t940   \t1000  \t1000\n",
      "133\t45    \t0   \t916.1 \t1000  \t1000\n",
      "134\t36    \t0   \t978.5 \t1000  \t1000\n",
      "135\t38    \t0   \t957.84\t1000  \t1000\n",
      "136\t39    \t850 \t994.4 \t1000  \t1000\n",
      "137\t39    \t755 \t990.8 \t1000  \t1000\n",
      "138\t40    \t0   \t931.8 \t1000  \t1000\n",
      "139\t40    \t870 \t993.1 \t1000  \t1000\n",
      "140\t37    \t0   \t935.8 \t1000  \t1000\n",
      "141\t46    \t0   \t956.3 \t1000  \t1000\n",
      "142\t41    \t0   \t980   \t1000  \t1000\n",
      "143\t31    \t0   \t976   \t1000  \t1000\n",
      "144\t41    \t0   \t977.2 \t1000  \t1000\n",
      "145\t32    \t0   \t980   \t1000  \t1000\n",
      "146\t38    \t930 \t998.6 \t1000  \t1000\n",
      "147\t39    \t0   \t976.8 \t1000  \t1000\n",
      "148\t25    \t965 \t999.3 \t1000  \t1000\n",
      "149\t36    \t910 \t998.2 \t1000  \t1000\n",
      "150\t37    \t0   \t976   \t1000  \t1000\n",
      "151\t39    \t0   \t939.3 \t1000  \t1000\n",
      "152\t46    \t0   \t894.6 \t1000  \t1000\n",
      "153\t37    \t940 \t998.8 \t1000  \t1000\n",
      "154\t40    \t980 \t999.6 \t1000  \t1000\n",
      "155\t37    \t0   \t957.8 \t1000  \t1000\n",
      "156\t43    \t0   \t980   \t1000  \t1000\n",
      "157\t38    \t930 \t997.3 \t1000  \t1000\n",
      "158\t29    \t0   \t959.8 \t1000  \t1000\n",
      "159\t38    \t965 \t999.3 \t1000  \t1000\n",
      "160\t31    \t0   \t940   \t1000  \t1000\n",
      "161\t40    \t0   \t974   \t1000  \t1000\n",
      "162\t33    \t0   \t960   \t1000  \t1000\n",
      "163\t40    \t0   \t975   \t1000  \t1000\n",
      "164\t38    \t0   \t956.1 \t1000  \t1000\n",
      "165\t39    \t875 \t997.5 \t1000  \t1000\n",
      "166\t34    \t0   \t958   \t1000  \t1000\n",
      "167\t44    \t800 \t991.9 \t1000  \t1000\n",
      "168\t40    \t1000\t1000  \t1000  \t1000\n",
      "169\t43    \t0   \t975   \t1000  \t1000\n",
      "170\t44    \t1000\t1000  \t1000  \t1000\n",
      "171\t35    \t0   \t957.2 \t1000  \t1000\n",
      "172\t36    \t900 \t997.3 \t1000  \t1000\n",
      "173\t36    \t0   \t933.6 \t1000  \t1000\n",
      "174\t43    \t0   \t957.5 \t1000  \t1000\n",
      "175\t38    \t0   \t956   \t1000  \t1000\n",
      "176\t45    \t0   \t935.4 \t1000  \t1000\n",
      "177\t31    \t0   \t980   \t1000  \t1000\n",
      "178\t40    \t770 \t990.2 \t1000  \t1000\n",
      "179\t36    \t925 \t998.5 \t1000  \t1000\n",
      "180\t35    \t0   \t954.4 \t1000  \t1000\n",
      "181\t41    \t0   \t980   \t1000  \t1000\n",
      "182\t38    \t0   \t976.6 \t1000  \t1000\n",
      "183\t41    \t0   \t976.1 \t1000  \t1000\n",
      "184\t41    \t0   \t979.1 \t1000  \t1000\n",
      "185\t38    \t0   \t975.5 \t1000  \t1000\n",
      "186\t37    \t0   \t977.7 \t1000  \t1000\n",
      "187\t39    \t0   \t934.4 \t1000  \t1000\n",
      "188\t40    \t810 \t988.54\t1000  \t1000\n",
      "189\t39    \t0   \t980   \t1000  \t1000\n",
      "190\t41    \t0   \t960   \t1000  \t1000\n",
      "191\t43    \t0   \t949.64\t1000  \t1000\n",
      "192\t45    \t0   \t938.5 \t1000  \t1000\n",
      "193\t35    \t0   \t939   \t1000  \t1000\n",
      "194\t32    \t850 \t995.8 \t1000  \t1000\n",
      "195\t42    \t0   \t973.1 \t1000  \t1000\n",
      "196\t40    \t1000\t1000  \t1000  \t1000\n",
      "197\t39    \t840 \t991.2 \t1000  \t1000\n",
      "198\t31    \t0   \t977.34\t1000  \t1000\n",
      "199\t43    \t0   \t977.2 \t1000  \t1000\n",
      "200\t42    \t0   \t938.6 \t1000  \t1000\n",
      "201\t36    \t0   \t934.6 \t1000  \t1000\n",
      "202\t41    \t0   \t958.4 \t1000  \t1000\n",
      "203\t38    \t1000\t1000  \t1000  \t1000\n",
      "204\t42    \t0   \t980   \t1000  \t1000\n",
      "205\t34    \t855 \t994.9 \t1000  \t1000\n",
      "206\t38    \t0   \t978.6 \t1000  \t1000\n",
      "207\t41    \t0   \t930   \t1000  \t1000\n",
      "208\t38    \t0   \t979   \t1000  \t1000\n",
      "209\t37    \t0   \t916   \t1000  \t1000\n",
      "210\t41    \t0   \t977.9 \t1000  \t1000\n",
      "211\t44    \t0   \t978.6 \t1000  \t1000\n",
      "212\t36    \t0   \t978.1 \t1000  \t1000\n",
      "213\t40    \t0   \t980   \t1000  \t1000\n",
      "214\t37    \t0   \t952.6 \t1000  \t1000\n",
      "215\t39    \t0   \t977.8 \t1000  \t1000\n",
      "216\t45    \t925 \t998.5 \t1000  \t1000\n",
      "217\t43    \t870 \t994   \t1000  \t1000\n",
      "218\t37    \t800 \t992.2 \t1000  \t1000\n",
      "219\t37    \t0   \t974.4 \t1000  \t1000\n",
      "220\t37    \t0   \t977.7 \t1000  \t1000\n",
      "221\t41    \t0   \t939.6 \t1000  \t1000\n",
      "222\t35    \t0   \t959.4 \t1000  \t1000\n",
      "223\t42    \t0   \t980   \t1000  \t1000\n",
      "224\t44    \t0   \t936.6 \t1000  \t1000\n",
      "225\t43    \t0   \t955.4 \t1000  \t1000\n",
      "226\t46    \t0   \t959.04\t1000  \t1000\n",
      "227\t43    \t0   \t959.3 \t1000  \t1000\n",
      "228\t40    \t0   \t960   \t1000  \t1000\n",
      "229\t41    \t0   \t978.4 \t1000  \t1000\n",
      "230\t42    \t770 \t995   \t1000  \t1000\n",
      "231\t40    \t0   \t975.3 \t1000  \t1000\n",
      "232\t35    \t817 \t990.94\t1000  \t1000\n",
      "233\t37    \t0   \t933.4 \t1000  \t1000\n",
      "234\t36    \t0   \t935   \t1000  \t1000\n",
      "235\t39    \t0   \t939   \t1000  \t1000\n",
      "236\t39    \t0   \t941.6 \t1000  \t1000\n",
      "237\t41    \t0   \t979   \t1000  \t1000\n",
      "238\t32    \t0   \t979.8 \t1000  \t1000\n",
      "239\t39    \t0   \t948.24\t1000  \t1000\n",
      "240\t39    \t0   \t976.2 \t1000  \t1000\n",
      "241\t35    \t0   \t937.8 \t1000  \t1000\n",
      "242\t40    \t0   \t954.6 \t1000  \t1000\n",
      "243\t39    \t0   \t973.4 \t1000  \t1000\n",
      "244\t36    \t0   \t959.2 \t1000  \t1000\n",
      "245\t37    \t0   \t962.8 \t1000  \t1000\n",
      "246\t42    \t0   \t929.9 \t1000  \t1000\n",
      "247\t41    \t0   \t960   \t1000  \t1000\n",
      "248\t34    \t0   \t955.8 \t1000  \t1000\n",
      "249\t36    \t0   \t960   \t1000  \t1000\n",
      "250\t42    \t925 \t998.5 \t1000  \t1000\n",
      "251\t43    \t885 \t997.1 \t1000  \t1000\n",
      "252\t34    \t0   \t978.8 \t1000  \t1000\n",
      "253\t38    \t1000\t1000  \t1000  \t1000\n",
      "254\t35    \t0   \t940   \t1000  \t1000\n",
      "255\t35    \t0   \t938.8 \t1000  \t1000\n",
      "256\t42    \t0   \t956.8 \t1000  \t1000\n",
      "257\t44    \t0   \t979.4 \t1000  \t1000\n",
      "258\t37    \t840 \t996.4 \t1000  \t1000\n",
      "259\t42    \t0   \t936   \t1000  \t1000\n",
      "260\t42    \t905 \t995.34\t1000  \t1000\n",
      "261\t31    \t0   \t979.3 \t1000  \t1000\n",
      "262\t35    \t0   \t969.3 \t1000  \t1000\n",
      "263\t41    \t0   \t974.4 \t1000  \t1000\n",
      "264\t46    \t0   \t975.2 \t1000  \t1000\n",
      "265\t41    \t690 \t993.1 \t1000  \t1000\n",
      "266\t38    \t0   \t973.2 \t1000  \t1000\n",
      "267\t38    \t0   \t940   \t1000  \t1000\n",
      "268\t38    \t0   \t980   \t1000  \t1000\n",
      "269\t37    \t600 \t992   \t1000  \t1000\n",
      "270\t48    \t0   \t975.1 \t1000  \t1000\n",
      "271\t36    \t0   \t980   \t1000  \t1000\n",
      "272\t40    \t0   \t978.1 \t1000  \t1000\n",
      "273\t35    \t0   \t935.8 \t1000  \t1000\n",
      "274\t39    \t0   \t957   \t1000  \t1000\n",
      "275\t42    \t0   \t956.8 \t1000  \t1000\n",
      "276\t34    \t950 \t999   \t1000  \t1000\n",
      "277\t44    \t0   \t955.04\t1000  \t1000\n",
      "278\t37    \t0   \t954.5 \t1000  \t1000\n",
      "279\t33    \t0   \t957.7 \t1000  \t1000\n",
      "280\t42    \t0   \t973   \t1000  \t1000\n",
      "281\t43    \t0   \t971.34\t1000  \t1000\n",
      "282\t37    \t0   \t980   \t1000  \t1000\n",
      "283\t36    \t790 \t991.9 \t1000  \t1000\n",
      "284\t46    \t0   \t939.6 \t1000  \t1000\n",
      "285\t42    \t0   \t978.5 \t1000  \t1000\n",
      "286\t39    \t0   \t915.9 \t1000  \t1000\n",
      "287\t43    \t0   \t957.4 \t1000  \t1000\n",
      "288\t42    \t0   \t934.4 \t1000  \t1000\n",
      "289\t46    \t0   \t951.7 \t1000  \t1000\n",
      "290\t41    \t890 \t997.8 \t1000  \t1000\n",
      "291\t34    \t980 \t999.6 \t1000  \t1000\n",
      "292\t40    \t0   \t935.1 \t1000  \t1000\n",
      "293\t27    \t0   \t974.6 \t1000  \t1000\n",
      "294\t40    \t0   \t952   \t1000  \t1000\n",
      "295\t34    \t0   \t955.6 \t1000  \t1000\n",
      "296\t35    \t0   \t977.4 \t1000  \t1000\n",
      "297\t38    \t0   \t973.9 \t1000  \t1000\n",
      "298\t39    \t0   \t956.7 \t1000  \t1000\n",
      "299\t46    \t930 \t996.6 \t1000  \t1000\n",
      "300\t35    \t0   \t978.4 \t1000  \t1000\n",
      "301\t31    \t0   \t978.8 \t1000  \t1000\n",
      "302\t39    \t0   \t959   \t1000  \t1000\n",
      "303\t47    \t0   \t968.2 \t1000  \t1000\n",
      "304\t41    \t0   \t958   \t1000  \t1000\n",
      "305\t32    \t0   \t978.1 \t1000  \t1000\n",
      "306\t43    \t0   \t935.4 \t1000  \t1000\n",
      "307\t35    \t800 \t993.2 \t1000  \t1000\n",
      "308\t45    \t0   \t934.7 \t1000  \t1000\n",
      "309\t34    \t925 \t998.5 \t1000  \t1000\n",
      "310\t37    \t0   \t931.6 \t1000  \t1000\n",
      "311\t42    \t0   \t937.6 \t1000  \t1000\n",
      "312\t45    \t850 \t992.6 \t1000  \t1000\n",
      "313\t39    \t0   \t980   \t1000  \t1000\n",
      "314\t34    \t0   \t978.1 \t1000  \t1000\n",
      "315\t36    \t0   \t933.2 \t1000  \t1000\n",
      "316\t42    \t0   \t936   \t1000  \t1000\n",
      "317\t37    \t940 \t998.1 \t1000  \t1000\n",
      "318\t38    \t0   \t975.6 \t1000  \t1000\n",
      "319\t35    \t0   \t954.1 \t1000  \t1000\n",
      "320\t42    \t0   \t960   \t1000  \t1000\n",
      "321\t40    \t0   \t978.8 \t1000  \t1000\n",
      "322\t42    \t865 \t996.5 \t1000  \t1000\n",
      "323\t35    \t920 \t995.64\t1000  \t1000\n",
      "324\t42    \t0   \t974.5 \t1000  \t1000\n",
      "325\t38    \t0   \t960   \t1000  \t1000\n",
      "326\t37    \t0   \t976.8 \t1000  \t1000\n",
      "327\t36    \t0   \t974.5 \t1000  \t1000\n",
      "328\t38    \t0   \t956.5 \t1000  \t1000\n",
      "329\t37    \t1000\t1000  \t1000  \t1000\n",
      "330\t37    \t0   \t954.4 \t1000  \t1000\n",
      "331\t41    \t0   \t932.2 \t1000  \t1000\n",
      "332\t42    \t0   \t960   \t1000  \t1000\n",
      "333\t41    \t0   \t934.7 \t1000  \t1030\n",
      "334\t46    \t0   \t912.24\t1000  \t1030\n",
      "335\t44    \t0   \t919.3 \t1000  \t1030\n",
      "336\t44    \t0   \t770.8 \t1000  \t1030\n",
      "337\t35    \t0   \t945.8 \t1000  \t1030\n",
      "338\t38    \t0   \t943.8 \t1030  \t1030\n",
      "339\t44    \t0   \t1008.2\t1030  \t1030\n",
      "340\t44    \t0   \t957.1 \t1030  \t1030\n",
      "341\t40    \t0   \t1009.4\t1030  \t1030\n",
      "342\t41    \t0   \t1003.6\t1030  \t1030\n",
      "343\t41    \t0   \t987.4 \t1030  \t1030\n",
      "344\t34    \t0   \t987.14\t1030  \t1030\n",
      "345\t36    \t955 \t1028.5\t1030  \t1030\n",
      "346\t38    \t0   \t987.8 \t1030  \t1030\n",
      "347\t41    \t0   \t1005.9\t1030  \t1030\n",
      "348\t38    \t0   \t979.8 \t1030  \t1030\n",
      "349\t37    \t905 \t1027.5\t1030  \t1030\n",
      "350\t43    \t0   \t1008.4\t1030  \t1030\n",
      "351\t43    \t0   \t968.2 \t1030  \t1030\n",
      "352\t37    \t0   \t982.2 \t1030  \t1030\n",
      "353\t48    \t0   \t980.8 \t1030  \t1030\n",
      "354\t37    \t985 \t1029.1\t1030  \t1030\n",
      "355\t36    \t0   \t946   \t1030  \t1030\n",
      "356\t35    \t0   \t984.8 \t1030  \t1030\n",
      "357\t43    \t815 \t1022.7\t1030  \t1030\n",
      "358\t39    \t0   \t943.5 \t1030  \t1030\n",
      "359\t40    \t0   \t966.7 \t1030  \t1030\n",
      "360\t35    \t0   \t961.2 \t1030  \t1030\n",
      "361\t45    \t0   \t1009.4\t1030  \t1030\n",
      "362\t41    \t0   \t987.6 \t1030  \t1030\n",
      "363\t43    \t960 \t1028.6\t1030  \t1030\n",
      "364\t40    \t0   \t987.4 \t1030  \t1030\n",
      "365\t44    \t0   \t985.3 \t1030  \t1030\n",
      "366\t38    \t0   \t978.2 \t1030  \t1030\n",
      "367\t42    \t870 \t1022.8\t1030  \t1030\n",
      "368\t39    \t0   \t1008.2\t1030  \t1030\n",
      "369\t36    \t0   \t983   \t1030  \t1030\n",
      "370\t46    \t1030\t1030  \t1030  \t1030\n",
      "371\t35    \t960 \t1027.4\t1030  \t1030\n",
      "372\t42    \t0   \t1009.4\t1030  \t1030\n",
      "373\t35    \t0   \t988.8 \t1030  \t1030\n",
      "374\t41    \t0   \t1009.4\t1030  \t1030\n",
      "375\t36    \t0   \t984.64\t1030  \t1030\n",
      "376\t42    \t995 \t1029.3\t1030  \t1030\n",
      "377\t35    \t0   \t965.2 \t1030  \t1030\n",
      "378\t40    \t0   \t1004.7\t1030  \t1030\n",
      "379\t44    \t770 \t1012.5\t1030  \t1030\n",
      "380\t42    \t0   \t1000.54\t1030  \t1030\n",
      "381\t41    \t0   \t944.84 \t1030  \t1030\n",
      "382\t35    \t0   \t1007   \t1030  \t1030\n",
      "383\t42    \t0   \t988.8  \t1030  \t1030\n",
      "384\t38    \t870 \t1024.8 \t1030  \t1030\n",
      "385\t33    \t0   \t987.54 \t1030  \t1030\n",
      "386\t39    \t0   \t1005.94\t1030  \t1030\n",
      "387\t36    \t0   \t988.8  \t1030  \t1030\n",
      "388\t41    \t0   \t987.3  \t1030  \t1030\n",
      "389\t38    \t0   \t1002.6 \t1030  \t1030\n",
      "390\t40    \t0   \t985.1  \t1030  \t1030\n",
      "391\t45    \t0   \t987.4  \t1030  \t1030\n",
      "392\t41    \t0   \t944.6  \t1030  \t1030\n",
      "393\t44    \t0   \t1004.3 \t1030  \t1030\n",
      "394\t43    \t0   \t960.54 \t1030  \t1030\n",
      "395\t33    \t0   \t1008.2 \t1030  \t1030\n",
      "396\t41    \t0   \t1003.4 \t1030  \t1030\n",
      "397\t42    \t0   \t988.8  \t1030  \t1030\n",
      "398\t41    \t0   \t985.6  \t1030  \t1030\n",
      "399\t44    \t0   \t1007.2 \t1030  \t1030\n",
      "400\t32    \t0   \t986.34 \t1030  \t1030\n",
      "401\t35    \t0   \t981.1  \t1030  \t1030\n",
      "402\t43    \t765 \t1016.7 \t1030  \t1030\n",
      "403\t31    \t0   \t968.2  \t1030  \t1030\n",
      "404\t32    \t925 \t1026.5 \t1030  \t1030\n",
      "405\t36    \t1010\t1029.6 \t1030  \t1030\n",
      "406\t35    \t890 \t1026.5 \t1030  \t1030\n",
      "407\t26    \t0   \t1005.4 \t1030  \t1030\n",
      "408\t38    \t0   \t1006.8 \t1030  \t1030\n",
      "409\t43    \t0   \t979.3  \t1030  \t1030\n",
      "410\t39    \t0   \t1007.8 \t1030  \t1030\n",
      "411\t37    \t0   \t1006.2 \t1030  \t1030\n",
      "412\t44    \t0   \t946.6  \t1030  \t1030\n",
      "413\t37    \t0   \t981.4  \t1030  \t1030\n",
      "414\t43    \t0   \t1007.8 \t1030  \t1030\n",
      "415\t37    \t0   \t988.8  \t1030  \t1030\n",
      "416\t34    \t0   \t1004.4 \t1030  \t1030\n",
      "417\t35    \t0   \t1006.8 \t1030  \t1030\n",
      "418\t39    \t0   \t985.7  \t1030  \t1030\n",
      "419\t43    \t960 \t1028.6 \t1030  \t1030\n",
      "420\t37    \t0   \t1000.8 \t1030  \t1030\n",
      "421\t41    \t0   \t1003.2 \t1030  \t1030\n",
      "422\t46    \t0   \t1008   \t1030  \t1030\n",
      "423\t42    \t0   \t988.4  \t1030  \t1030\n",
      "424\t43    \t0   \t1006.1 \t1030  \t1030\n",
      "425\t42    \t0   \t1006.84\t1030  \t1030\n",
      "426\t40    \t0   \t988.8  \t1030  \t1030\n",
      "427\t35    \t0   \t962.2  \t1030  \t1030\n",
      "428\t39    \t0   \t987.4  \t1030  \t1030\n",
      "429\t34    \t0   \t988.8  \t1030  \t1030\n",
      "430\t32    \t0   \t984.2  \t1030  \t1030\n",
      "431\t36    \t0   \t1008.2 \t1030  \t1030\n",
      "432\t33    \t0   \t1006.5 \t1030  \t1030\n",
      "433\t40    \t950 \t1028.4 \t1030  \t1030\n",
      "434\t36    \t0   \t1009.4 \t1030  \t1030\n",
      "435\t43    \t0   \t984.9  \t1030  \t1030\n",
      "436\t42    \t0   \t985.1  \t1030  \t1030\n",
      "437\t41    \t0   \t961.2  \t1030  \t1030\n",
      "438\t42    \t680 \t1016.2 \t1030  \t1030\n",
      "439\t38    \t0   \t987.2  \t1030  \t1030\n",
      "440\t38    \t0   \t1009.4 \t1030  \t1030\n",
      "441\t39    \t0   \t963.2  \t1030  \t1030\n",
      "442\t32    \t0   \t985.4  \t1030  \t1030\n",
      "443\t40    \t0   \t1006.9 \t1030  \t1030\n",
      "444\t46    \t0   \t1006.4 \t1030  \t1030\n",
      "445\t40    \t0   \t1009.4 \t1030  \t1030\n",
      "446\t34    \t0   \t1009.4 \t1030  \t1030\n",
      "447\t36    \t0   \t1004.6 \t1030  \t1030\n",
      "448\t34    \t0   \t981.2  \t1030  \t1030\n",
      "449\t42    \t995 \t1029.3 \t1030  \t1030\n",
      "450\t45    \t0   \t943.5  \t1030  \t1030\n",
      "451\t34    \t0   \t962.8  \t1030  \t1030\n",
      "452\t37    \t810 \t1016.4 \t1030  \t1030\n",
      "453\t42    \t880 \t1027   \t1030  \t1030\n",
      "454\t37    \t0   \t983.1  \t1030  \t1030\n",
      "455\t40    \t0   \t965.4  \t1030  \t1030\n",
      "456\t37    \t0   \t1001.4 \t1030  \t1030\n",
      "457\t40    \t1030\t1030   \t1030  \t1030\n",
      "458\t40    \t0   \t988    \t1030  \t1030\n",
      "459\t41    \t0   \t962.8  \t1030  \t1030\n",
      "460\t32    \t960 \t1028.2 \t1030  \t1030\n",
      "461\t33    \t0   \t974.14 \t1030  \t1030\n",
      "462\t38    \t0   \t985.6  \t1030  \t1030\n",
      "463\t38    \t0   \t967    \t1030  \t1030\n",
      "464\t35    \t0   \t926    \t1030  \t1030\n",
      "465\t31    \t0   \t1008.4 \t1030  \t1030\n",
      "466\t39    \t0   \t985.8  \t1030  \t1030\n",
      "467\t38    \t0   \t946    \t1030  \t1030\n",
      "468\t32    \t0   \t968.2  \t1030  \t1030\n",
      "469\t33    \t0   \t1006.7 \t1030  \t1030\n",
      "470\t41    \t0   \t980.24 \t1030  \t1030\n",
      "471\t40    \t0   \t984.2  \t1030  \t1030\n",
      "472\t42    \t0   \t966.5  \t1030  \t1030\n",
      "473\t41    \t0   \t1008.4 \t1030  \t1030\n",
      "474\t38    \t950 \t1027.2 \t1030  \t1030\n",
      "475\t40    \t0   \t1001.8 \t1030  \t1030\n",
      "476\t38    \t0   \t984.3  \t1030  \t1030\n",
      "477\t35    \t0   \t1006.5 \t1030  \t1030\n",
      "478\t36    \t760 \t1024.6 \t1030  \t1030\n",
      "479\t43    \t0   \t947.6  \t1030  \t1030\n",
      "480\t50    \t0   \t1003.3 \t1030  \t1030\n",
      "481\t39    \t0   \t985.2  \t1030  \t1030\n",
      "482\t41    \t0   \t967.1  \t1030  \t1030\n",
      "483\t40    \t0   \t963    \t1030  \t1030\n",
      "484\t33    \t0   \t1008.4 \t1030  \t1030\n",
      "485\t37    \t0   \t988.8  \t1030  \t1030\n",
      "486\t40    \t0   \t1005.4 \t1030  \t1030\n",
      "487\t36    \t935 \t1024.5 \t1030  \t1030\n",
      "488\t40    \t840 \t1023.1 \t1030  \t1030\n",
      "489\t36    \t0   \t980.8  \t1030  \t1030\n",
      "490\t33    \t0   \t1008.3 \t1030  \t1030\n",
      "491\t40    \t0   \t1004.8 \t1030  \t1030\n",
      "492\t44    \t0   \t963.5  \t1030  \t1030\n",
      "493\t37    \t0   \t965.3  \t1030  \t1030\n",
      "494\t37    \t870 \t1026.4 \t1030  \t1030\n",
      "495\t34    \t0   \t1008.2 \t1030  \t1030\n",
      "496\t44    \t840 \t1019   \t1030  \t1030\n",
      "497\t35    \t0   \t1004.3 \t1030  \t1030\n",
      "498\t43    \t0   \t1002.3 \t1030  \t1030\n",
      "499\t40    \t0   \t979.6  \t1030  \t1030\n",
      "500\t41    \t0   \t987.6  \t1030  \t1030\n"
     ]
    }
   ],
   "source": [
    "best_individuals, logbook = toolbox.maximize(\n",
    "    population=toolbox.populationCreator(n=POPULATION_SIZE),\n",
    ")"
   ]
  },
  {
   "cell_type": "code",
   "execution_count": 8,
   "metadata": {
    "ExecuteTime": {
     "end_time": "2023-06-05T15:13:03.951954452Z",
     "start_time": "2023-06-05T15:13:03.903621319Z"
    }
   },
   "outputs": [
    {
     "data": {
      "text/plain": "[1, 1, 1, 1, 1, 0, 1, 0, 0, 0, 1, 0, 0, 0, 0, 1, 1, 1, 1, 0, 1, 0]"
     },
     "execution_count": 8,
     "metadata": {},
     "output_type": "execute_result"
    }
   ],
   "source": [
    "best_individual = max(best_individuals, key=evaluate)\n",
    "best_individual"
   ]
  },
  {
   "cell_type": "code",
   "execution_count": 9,
   "metadata": {
    "ExecuteTime": {
     "end_time": "2023-06-05T15:13:03.952789252Z",
     "start_time": "2023-06-05T15:13:03.951293994Z"
    }
   },
   "outputs": [
    {
     "name": "stdout",
     "output_type": "stream",
     "text": [
      "Total taken items weight:\n"
     ]
    },
    {
     "data": {
      "text/plain": "396"
     },
     "execution_count": 9,
     "metadata": {},
     "output_type": "execute_result"
    }
   ],
   "source": [
    "print('Total taken items weight:')\n",
    "sum(item.weight for using, item in zip(best_individual, ITEMS) if using)"
   ]
  },
  {
   "cell_type": "code",
   "execution_count": 10,
   "metadata": {
    "ExecuteTime": {
     "end_time": "2023-06-05T15:13:03.953498836Z",
     "start_time": "2023-06-05T15:13:03.951666160Z"
    }
   },
   "outputs": [
    {
     "name": "stdout",
     "output_type": "stream",
     "text": [
      "Taken items list:\n"
     ]
    },
    {
     "data": {
      "text/plain": "['Карта',\n 'Компас',\n 'Вода',\n 'Сэндвич',\n 'Глюкоза',\n 'Банан',\n 'Крем от загара',\n 'Непромокаемые штаны',\n 'Непромокаемый плащ',\n 'Бумажник',\n 'Солнечные очки',\n 'Носки']"
     },
     "execution_count": 10,
     "metadata": {},
     "output_type": "execute_result"
    }
   ],
   "source": [
    "print('Taken items list:')\n",
    "[item.name for using, item in zip(best_individual, ITEMS) if using]"
   ]
  },
  {
   "cell_type": "code",
   "execution_count": 11,
   "metadata": {
    "ExecuteTime": {
     "end_time": "2023-06-05T15:13:03.954092837Z",
     "start_time": "2023-06-05T15:13:03.952194872Z"
    }
   },
   "outputs": [
    {
     "name": "stdout",
     "output_type": "stream",
     "text": [
      "Total taken items value:\n"
     ]
    },
    {
     "data": {
      "text/plain": "(1030,)"
     },
     "execution_count": 11,
     "metadata": {},
     "output_type": "execute_result"
    }
   ],
   "source": [
    "print('Total taken items value:')\n",
    "evaluate(best_individual)"
   ]
  },
  {
   "cell_type": "code",
   "execution_count": 12,
   "metadata": {
    "ExecuteTime": {
     "end_time": "2023-06-05T15:13:03.954662327Z",
     "start_time": "2023-06-05T15:13:03.952449826Z"
    }
   },
   "outputs": [
    {
     "name": "stdout",
     "output_type": "stream",
     "text": [
      "Total taken items wight:\n"
     ]
    },
    {
     "data": {
      "text/plain": "396"
     },
     "execution_count": 12,
     "metadata": {},
     "output_type": "execute_result"
    }
   ],
   "source": [
    "print('Total taken items wight:')\n",
    "sum(item.weight for using, item in zip(best_individual, ITEMS) if using)"
   ]
  },
  {
   "cell_type": "code",
   "execution_count": 13,
   "metadata": {
    "ExecuteTime": {
     "end_time": "2023-06-05T15:13:04.496301552Z",
     "start_time": "2023-06-05T15:13:03.994992395Z"
    }
   },
   "outputs": [
    {
     "data": {
      "text/plain": "<Figure size 1400x600 with 1 Axes>",
      "image/png": "[encoded data removed]"
     },
     "metadata": {},
     "output_type": "display_data"
    }
   ],
   "source": [
    "def show_plot(logbook: tools.Logbook):\n",
    "    fig, ax = plt.subplots(1, figsize=(14, 6))\n",
    "\n",
    "    ax.grid(True)\n",
    "    ax.set_yticks(range(0, 1201, 50))\n",
    "    ax.set_xticks(range(0, MAX_GENERATIONS + 1, 20))\n",
    "\n",
    "    ax.plot(logbook.select('max'), color='red', label='MAX value')\n",
    "    ax.plot(logbook.select('avg'), color='green', label='AVG value')\n",
    "\n",
    "    ax.set_title('Population history')\n",
    "    ax.set_xlabel('Generation')\n",
    "    ax.set_ylabel('Value')\n",
    "\n",
    "    ax.legend()\n",
    "\n",
    "\n",
    "show_plot(logbook)"
   ]
  }
 ],
 "metadata": {
  "kernelspec": {
   "display_name": "Python 3 (ipykernel)",
   "language": "python",
   "name": "python3"
  },
  "language_info": {
   "codemirror_mode": {
    "name": "ipython",
    "version": 2
   },
   "file_extension": ".py",
   "mimetype": "text/x-python",
   "name": "python",
   "nbconvert_exporter": "python",
   "pygments_lexer": "ipython2",
   "version": "2.7.6"
  }
 },
 "nbformat": 4,
 "nbformat_minor": 1
}
