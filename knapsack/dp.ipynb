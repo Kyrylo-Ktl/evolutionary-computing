{
 "cells": [
  {
   "cell_type": "code",
   "execution_count": 1,
   "metadata": {
    "ExecuteTime": {
     "end_time": "2023-06-05T15:12:32.098580740Z",
     "start_time": "2023-06-05T15:12:32.091151352Z"
    }
   },
   "outputs": [],
   "source": [
    "from functools import cache\n",
    "\n",
    "from config import ITEMS, MAX_WEIGHT, Item\n",
    "\n",
    "\n",
    "def knapsack(items: list[Item], max_weight: int) -> int:\n",
    "    @cache\n",
    "    def dp(i: int, weight: int) -> int:\n",
    "        if i >= len(items) or weight == 0:\n",
    "            return 0\n",
    "\n",
    "        if weight < items[i].weight:\n",
    "            return dp(i + 1, weight)\n",
    "\n",
    "        return max(\n",
    "            dp(i + 1, weight - items[i].weight) + items[i].value,\n",
    "            dp(i + 1, weight),\n",
    "        )\n",
    "\n",
    "    return dp(0, max_weight)"
   ]
  },
  {
   "cell_type": "code",
   "execution_count": 2,
   "metadata": {
    "ExecuteTime": {
     "end_time": "2023-06-05T15:12:32.159291425Z",
     "start_time": "2023-06-05T15:12:32.099584128Z"
    }
   },
   "outputs": [
    {
     "data": {
      "text/plain": "1030"
     },
     "execution_count": 2,
     "metadata": {},
     "output_type": "execute_result"
    }
   ],
   "source": [
    "knapsack(items=ITEMS, max_weight=MAX_WEIGHT)"
   ]
  }
 ],
 "metadata": {
  "kernelspec": {
   "display_name": "Python 3 (ipykernel)",
   "language": "python",
   "name": "python3"
  },
  "language_info": {
   "codemirror_mode": {
    "name": "ipython",
    "version": 2
   },
   "file_extension": ".py",
   "mimetype": "text/x-python",
   "name": "python",
   "nbconvert_exporter": "python",
   "pygments_lexer": "ipython2",
   "version": "2.7.6"
  }
 },
 "nbformat": 4,
 "nbformat_minor": 1
}
